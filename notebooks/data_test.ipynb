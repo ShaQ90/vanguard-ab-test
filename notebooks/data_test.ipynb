{
 "cells": [
  {
   "cell_type": "code",
   "execution_count": 92,
   "id": "1afb8f7e-003a-4e56-a352-aeea35157d99",
   "metadata": {},
   "outputs": [],
   "source": [
    "#Imports\n",
    "import pandas as pd\n",
    "import functions as func\n",
    "import yaml\n",
    "import matplotlib.pyplot as plt\n",
    "import seaborn as sns\n",
    "\n",
    "db_locations = func.import_yaml()\n",
    "\n",
    "#load df\n",
    "df_1 = pd.read_csv(db_locations['data_raw']['file1'])\n",
    "df_2 = pd.read_csv(db_locations['data_raw']['file2'])\n",
    "df_3 = pd.read_csv(db_locations['data_raw']['file3'])\n",
    "df_4 = pd.read_csv(db_locations['data_raw']['file4'])\n"
   ]
  },
  {
   "cell_type": "code",
   "execution_count": 47,
   "id": "dda39c3e-4462-41e6-90b7-bf72170edf47",
   "metadata": {},
   "outputs": [
    {
     "data": {
      "text/html": [
       "<div>\n",
       "<style scoped>\n",
       "    .dataframe tbody tr th:only-of-type {\n",
       "        vertical-align: middle;\n",
       "    }\n",
       "\n",
       "    .dataframe tbody tr th {\n",
       "        vertical-align: top;\n",
       "    }\n",
       "\n",
       "    .dataframe thead th {\n",
       "        text-align: right;\n",
       "    }\n",
       "</style>\n",
       "<table border=\"1\" class=\"dataframe\">\n",
       "  <thead>\n",
       "    <tr style=\"text-align: right;\">\n",
       "      <th></th>\n",
       "      <th>client_id</th>\n",
       "      <th>clnt_tenure_yr</th>\n",
       "      <th>clnt_tenure_mnth</th>\n",
       "      <th>clnt_age</th>\n",
       "      <th>gendr</th>\n",
       "      <th>num_accts</th>\n",
       "      <th>bal</th>\n",
       "      <th>calls_6_mnth</th>\n",
       "      <th>logons_6_mnth</th>\n",
       "      <th>Variation</th>\n",
       "    </tr>\n",
       "  </thead>\n",
       "  <tbody>\n",
       "    <tr>\n",
       "      <th>0</th>\n",
       "      <td>836976</td>\n",
       "      <td>6.0</td>\n",
       "      <td>73.0</td>\n",
       "      <td>60.5</td>\n",
       "      <td>U</td>\n",
       "      <td>2.0</td>\n",
       "      <td>45105.30</td>\n",
       "      <td>6.0</td>\n",
       "      <td>9.0</td>\n",
       "      <td>Test</td>\n",
       "    </tr>\n",
       "    <tr>\n",
       "      <th>1</th>\n",
       "      <td>2304905</td>\n",
       "      <td>7.0</td>\n",
       "      <td>94.0</td>\n",
       "      <td>58.0</td>\n",
       "      <td>U</td>\n",
       "      <td>2.0</td>\n",
       "      <td>110860.30</td>\n",
       "      <td>6.0</td>\n",
       "      <td>9.0</td>\n",
       "      <td>Control</td>\n",
       "    </tr>\n",
       "    <tr>\n",
       "      <th>2</th>\n",
       "      <td>1439522</td>\n",
       "      <td>5.0</td>\n",
       "      <td>64.0</td>\n",
       "      <td>32.0</td>\n",
       "      <td>U</td>\n",
       "      <td>2.0</td>\n",
       "      <td>52467.79</td>\n",
       "      <td>6.0</td>\n",
       "      <td>9.0</td>\n",
       "      <td>Test</td>\n",
       "    </tr>\n",
       "    <tr>\n",
       "      <th>3</th>\n",
       "      <td>1562045</td>\n",
       "      <td>16.0</td>\n",
       "      <td>198.0</td>\n",
       "      <td>49.0</td>\n",
       "      <td>M</td>\n",
       "      <td>2.0</td>\n",
       "      <td>67454.65</td>\n",
       "      <td>3.0</td>\n",
       "      <td>6.0</td>\n",
       "      <td>Test</td>\n",
       "    </tr>\n",
       "    <tr>\n",
       "      <th>4</th>\n",
       "      <td>5126305</td>\n",
       "      <td>12.0</td>\n",
       "      <td>145.0</td>\n",
       "      <td>33.0</td>\n",
       "      <td>F</td>\n",
       "      <td>2.0</td>\n",
       "      <td>103671.75</td>\n",
       "      <td>0.0</td>\n",
       "      <td>3.0</td>\n",
       "      <td>Control</td>\n",
       "    </tr>\n",
       "    <tr>\n",
       "      <th>5</th>\n",
       "      <td>3727881</td>\n",
       "      <td>5.0</td>\n",
       "      <td>71.0</td>\n",
       "      <td>30.5</td>\n",
       "      <td>U</td>\n",
       "      <td>2.0</td>\n",
       "      <td>23915.60</td>\n",
       "      <td>0.0</td>\n",
       "      <td>3.0</td>\n",
       "      <td>Control</td>\n",
       "    </tr>\n",
       "    <tr>\n",
       "      <th>6</th>\n",
       "      <td>272934</td>\n",
       "      <td>5.0</td>\n",
       "      <td>66.0</td>\n",
       "      <td>58.5</td>\n",
       "      <td>U</td>\n",
       "      <td>2.0</td>\n",
       "      <td>27021.42</td>\n",
       "      <td>2.0</td>\n",
       "      <td>5.0</td>\n",
       "      <td>Control</td>\n",
       "    </tr>\n",
       "    <tr>\n",
       "      <th>7</th>\n",
       "      <td>388801</td>\n",
       "      <td>30.0</td>\n",
       "      <td>361.0</td>\n",
       "      <td>57.5</td>\n",
       "      <td>M</td>\n",
       "      <td>5.0</td>\n",
       "      <td>522498.72</td>\n",
       "      <td>1.0</td>\n",
       "      <td>4.0</td>\n",
       "      <td>Test</td>\n",
       "    </tr>\n",
       "    <tr>\n",
       "      <th>8</th>\n",
       "      <td>285619</td>\n",
       "      <td>30.0</td>\n",
       "      <td>369.0</td>\n",
       "      <td>67.5</td>\n",
       "      <td>M</td>\n",
       "      <td>2.0</td>\n",
       "      <td>299388.72</td>\n",
       "      <td>3.0</td>\n",
       "      <td>6.0</td>\n",
       "      <td>Control</td>\n",
       "    </tr>\n",
       "    <tr>\n",
       "      <th>9</th>\n",
       "      <td>8198645</td>\n",
       "      <td>15.0</td>\n",
       "      <td>189.0</td>\n",
       "      <td>54.5</td>\n",
       "      <td>F</td>\n",
       "      <td>2.0</td>\n",
       "      <td>382303.83</td>\n",
       "      <td>6.0</td>\n",
       "      <td>9.0</td>\n",
       "      <td>Test</td>\n",
       "    </tr>\n",
       "  </tbody>\n",
       "</table>\n",
       "</div>"
      ],
      "text/plain": [
       "   client_id  clnt_tenure_yr  clnt_tenure_mnth  clnt_age gendr  num_accts  \\\n",
       "0     836976             6.0              73.0      60.5     U        2.0   \n",
       "1    2304905             7.0              94.0      58.0     U        2.0   \n",
       "2    1439522             5.0              64.0      32.0     U        2.0   \n",
       "3    1562045            16.0             198.0      49.0     M        2.0   \n",
       "4    5126305            12.0             145.0      33.0     F        2.0   \n",
       "5    3727881             5.0              71.0      30.5     U        2.0   \n",
       "6     272934             5.0              66.0      58.5     U        2.0   \n",
       "7     388801            30.0             361.0      57.5     M        5.0   \n",
       "8     285619            30.0             369.0      67.5     M        2.0   \n",
       "9    8198645            15.0             189.0      54.5     F        2.0   \n",
       "\n",
       "         bal  calls_6_mnth  logons_6_mnth Variation  \n",
       "0   45105.30           6.0            9.0      Test  \n",
       "1  110860.30           6.0            9.0   Control  \n",
       "2   52467.79           6.0            9.0      Test  \n",
       "3   67454.65           3.0            6.0      Test  \n",
       "4  103671.75           0.0            3.0   Control  \n",
       "5   23915.60           0.0            3.0   Control  \n",
       "6   27021.42           2.0            5.0   Control  \n",
       "7  522498.72           1.0            4.0      Test  \n",
       "8  299388.72           3.0            6.0   Control  \n",
       "9  382303.83           6.0            9.0      Test  "
      ]
     },
     "execution_count": 47,
     "metadata": {},
     "output_type": "execute_result"
    }
   ],
   "source": [
    "# Merge df_1 with df_2\n",
    "df_user_comp = df_1.merge(df_2, on= \"client_id\").reindex(df_1.index)\n",
    "df_user_comp.head(10)"
   ]
  },
  {
   "cell_type": "code",
   "execution_count": 61,
   "id": "43c8889a-9929-43bd-b6a5-9fce110f79a6",
   "metadata": {},
   "outputs": [
    {
     "name": "stdout",
     "output_type": "stream",
     "text": [
      "<class 'pandas.core.frame.DataFrame'>\n",
      "RangeIndex: 70609 entries, 0 to 70608\n",
      "Data columns (total 10 columns):\n",
      " #   Column            Non-Null Count  Dtype  \n",
      "---  ------            --------------  -----  \n",
      " 0   client_id         70609 non-null  int64  \n",
      " 1   clnt_tenure_yr    70595 non-null  float64\n",
      " 2   clnt_tenure_mnth  70595 non-null  float64\n",
      " 3   clnt_age          70594 non-null  float64\n",
      " 4   gendr             70595 non-null  object \n",
      " 5   num_accts         70595 non-null  float64\n",
      " 6   bal               70595 non-null  float64\n",
      " 7   calls_6_mnth      70595 non-null  float64\n",
      " 8   logons_6_mnth     70595 non-null  float64\n",
      " 9   Variation         50500 non-null  object \n",
      "dtypes: float64(7), int64(1), object(2)\n",
      "memory usage: 5.4+ MB\n"
     ]
    }
   ],
   "source": [
    "df_user_comp.info()"
   ]
  },
  {
   "cell_type": "code",
   "execution_count": 48,
   "id": "43784572-776a-4e03-92bc-8d044ad86677",
   "metadata": {},
   "outputs": [
    {
     "data": {
      "text/plain": [
       "client_id           False\n",
       "clnt_tenure_yr       True\n",
       "clnt_tenure_mnth     True\n",
       "clnt_age             True\n",
       "gendr                True\n",
       "num_accts            True\n",
       "bal                  True\n",
       "calls_6_mnth         True\n",
       "logons_6_mnth        True\n",
       "Variation            True\n",
       "dtype: bool"
      ]
     },
     "execution_count": 48,
     "metadata": {},
     "output_type": "execute_result"
    }
   ],
   "source": [
    "#Checking null\n",
    "\n",
    "df_user_comp.isnull().any()"
   ]
  },
  {
   "cell_type": "code",
   "execution_count": 67,
   "id": "07a1dc58-3842-4b3b-8cb5-dcd53b815abb",
   "metadata": {},
   "outputs": [
    {
     "data": {
      "text/plain": [
       "clnt_age            13\n",
       "clnt_tenure_yr      12\n",
       "clnt_tenure_mnth    12\n",
       "gendr               12\n",
       "num_accts           12\n",
       "bal                 12\n",
       "calls_6_mnth        12\n",
       "logons_6_mnth       12\n",
       "client_id            0\n",
       "Variation            0\n",
       "dtype: int64"
      ]
     },
     "execution_count": 67,
     "metadata": {},
     "output_type": "execute_result"
    }
   ],
   "source": [
    "# droping rows with nan on the variation Column, clients that didnt use the app for the amount of time tested\n",
    "# check the missing values, low quantity we can use the database as it is\n",
    "\n",
    "df_user_comp.dropna(subset= \"Variation\",inplace=True)\n",
    "df_user_comp.isnull().sum().sort_values(ascending=False)"
   ]
  },
  {
   "cell_type": "code",
   "execution_count": 68,
   "id": "44b770a2-2afd-4845-af20-4d0f2e3abddd",
   "metadata": {},
   "outputs": [
    {
     "data": {
      "text/plain": [
       "client_id           50500\n",
       "bal                 50312\n",
       "clnt_tenure_mnth      469\n",
       "clnt_age              158\n",
       "clnt_tenure_yr         53\n",
       "num_accts               7\n",
       "calls_6_mnth            7\n",
       "logons_6_mnth           7\n",
       "dtype: int64"
      ]
     },
     "execution_count": 68,
     "metadata": {},
     "output_type": "execute_result"
    }
   ],
   "source": [
    "#checking types of data \n",
    "df_user_comp.select_dtypes(\"number\").nunique().sort_values(ascending=False)\n"
   ]
  },
  {
   "cell_type": "code",
   "execution_count": 69,
   "id": "741f7d71-8de1-4f29-8178-e0b72b405af4",
   "metadata": {},
   "outputs": [
    {
     "data": {
      "text/plain": [
       "gendr        4\n",
       "Variation    2\n",
       "dtype: int64"
      ]
     },
     "execution_count": 69,
     "metadata": {},
     "output_type": "execute_result"
    }
   ],
   "source": [
    "df_user_comp.select_dtypes(\"object\").nunique().sort_values(ascending=False)"
   ]
  },
  {
   "cell_type": "code",
   "execution_count": 79,
   "id": "df009c4c-e7f1-4bd7-bb19-71168ddcc046",
   "metadata": {},
   "outputs": [
    {
     "data": {
      "text/plain": [
       "gendr\n",
       "U    17280\n",
       "M    16947\n",
       "F    16259\n",
       "X        2\n",
       "Name: count, dtype: int64"
      ]
     },
     "execution_count": 79,
     "metadata": {},
     "output_type": "execute_result"
    }
   ],
   "source": [
    "#checking frequency table for gender\n",
    "# By the result could assume that the database probably is probably 50/50 on gender, with a small higher number of males\n",
    "# The data is inconclusive, so we cant use it\n",
    "frequency_table = df_user_comp['gendr'].value_counts()\n",
    "proportion_table = df_user_comp['gendr'].value_counts(normalize=True)\n",
    "\n",
    "frequency_table"
   ]
  },
  {
   "cell_type": "code",
   "execution_count": 88,
   "id": "dd5533c2-2dfb-47b2-8fbb-3493c5658e84",
   "metadata": {},
   "outputs": [
    {
     "data": {
      "image/png": "[encoded data removed]",
      "text/plain": [
       "<Figure size 640x480 with 1 Axes>"
      ]
     },
     "metadata": {},
     "output_type": "display_data"
    }
   ],
   "source": [
    "plt.pie(proportion_table.values, labels = proportion_table.index)\n",
    "plt.show()"
   ]
  },
  {
   "cell_type": "code",
   "execution_count": 90,
   "id": "7903a148-0277-4240-b784-e4f3a829754d",
   "metadata": {},
   "outputs": [
    {
     "data": {
      "text/html": [
       "<div>\n",
       "<style scoped>\n",
       "    .dataframe tbody tr th:only-of-type {\n",
       "        vertical-align: middle;\n",
       "    }\n",
       "\n",
       "    .dataframe tbody tr th {\n",
       "        vertical-align: top;\n",
       "    }\n",
       "\n",
       "    .dataframe thead th {\n",
       "        text-align: right;\n",
       "    }\n",
       "</style>\n",
       "<table border=\"1\" class=\"dataframe\">\n",
       "  <thead>\n",
       "    <tr style=\"text-align: right;\">\n",
       "      <th></th>\n",
       "      <th>client_id</th>\n",
       "      <th>clnt_tenure_yr</th>\n",
       "      <th>clnt_tenure_mnth</th>\n",
       "      <th>clnt_age</th>\n",
       "      <th>num_accts</th>\n",
       "      <th>bal</th>\n",
       "      <th>calls_6_mnth</th>\n",
       "      <th>logons_6_mnth</th>\n",
       "    </tr>\n",
       "  </thead>\n",
       "  <tbody>\n",
       "    <tr>\n",
       "      <th>count</th>\n",
       "      <td>5.050000e+04</td>\n",
       "      <td>50488.000000</td>\n",
       "      <td>50488.000000</td>\n",
       "      <td>50487.000000</td>\n",
       "      <td>50488.000000</td>\n",
       "      <td>5.048800e+04</td>\n",
       "      <td>50488.000000</td>\n",
       "      <td>50488.000000</td>\n",
       "    </tr>\n",
       "    <tr>\n",
       "      <th>mean</th>\n",
       "      <td>5.006179e+06</td>\n",
       "      <td>12.031730</td>\n",
       "      <td>150.415485</td>\n",
       "      <td>47.319795</td>\n",
       "      <td>2.254575</td>\n",
       "      <td>1.495147e+05</td>\n",
       "      <td>3.093289</td>\n",
       "      <td>6.131873</td>\n",
       "    </tr>\n",
       "    <tr>\n",
       "      <th>std</th>\n",
       "      <td>2.877443e+06</td>\n",
       "      <td>6.860282</td>\n",
       "      <td>81.944830</td>\n",
       "      <td>15.518616</td>\n",
       "      <td>0.533671</td>\n",
       "      <td>3.020364e+05</td>\n",
       "      <td>2.187991</td>\n",
       "      <td>2.175423</td>\n",
       "    </tr>\n",
       "    <tr>\n",
       "      <th>min</th>\n",
       "      <td>5.550000e+02</td>\n",
       "      <td>2.000000</td>\n",
       "      <td>33.000000</td>\n",
       "      <td>17.000000</td>\n",
       "      <td>1.000000</td>\n",
       "      <td>2.378944e+04</td>\n",
       "      <td>0.000000</td>\n",
       "      <td>3.000000</td>\n",
       "    </tr>\n",
       "    <tr>\n",
       "      <th>25%</th>\n",
       "      <td>2.515646e+06</td>\n",
       "      <td>6.000000</td>\n",
       "      <td>82.000000</td>\n",
       "      <td>33.500000</td>\n",
       "      <td>2.000000</td>\n",
       "      <td>3.987841e+04</td>\n",
       "      <td>1.000000</td>\n",
       "      <td>4.000000</td>\n",
       "    </tr>\n",
       "    <tr>\n",
       "      <th>50%</th>\n",
       "      <td>5.025104e+06</td>\n",
       "      <td>11.000000</td>\n",
       "      <td>136.000000</td>\n",
       "      <td>48.000000</td>\n",
       "      <td>2.000000</td>\n",
       "      <td>6.573360e+04</td>\n",
       "      <td>3.000000</td>\n",
       "      <td>6.000000</td>\n",
       "    </tr>\n",
       "    <tr>\n",
       "      <th>75%</th>\n",
       "      <td>7.477933e+06</td>\n",
       "      <td>16.000000</td>\n",
       "      <td>192.000000</td>\n",
       "      <td>59.500000</td>\n",
       "      <td>2.000000</td>\n",
       "      <td>1.399565e+05</td>\n",
       "      <td>5.000000</td>\n",
       "      <td>8.000000</td>\n",
       "    </tr>\n",
       "    <tr>\n",
       "      <th>max</th>\n",
       "      <td>9.999832e+06</td>\n",
       "      <td>55.000000</td>\n",
       "      <td>669.000000</td>\n",
       "      <td>96.000000</td>\n",
       "      <td>7.000000</td>\n",
       "      <td>1.632004e+07</td>\n",
       "      <td>6.000000</td>\n",
       "      <td>9.000000</td>\n",
       "    </tr>\n",
       "  </tbody>\n",
       "</table>\n",
       "</div>"
      ],
      "text/plain": [
       "          client_id  clnt_tenure_yr  clnt_tenure_mnth      clnt_age  \\\n",
       "count  5.050000e+04    50488.000000      50488.000000  50487.000000   \n",
       "mean   5.006179e+06       12.031730        150.415485     47.319795   \n",
       "std    2.877443e+06        6.860282         81.944830     15.518616   \n",
       "min    5.550000e+02        2.000000         33.000000     17.000000   \n",
       "25%    2.515646e+06        6.000000         82.000000     33.500000   \n",
       "50%    5.025104e+06       11.000000        136.000000     48.000000   \n",
       "75%    7.477933e+06       16.000000        192.000000     59.500000   \n",
       "max    9.999832e+06       55.000000        669.000000     96.000000   \n",
       "\n",
       "          num_accts           bal  calls_6_mnth  logons_6_mnth  \n",
       "count  50488.000000  5.048800e+04  50488.000000   50488.000000  \n",
       "mean       2.254575  1.495147e+05      3.093289       6.131873  \n",
       "std        0.533671  3.020364e+05      2.187991       2.175423  \n",
       "min        1.000000  2.378944e+04      0.000000       3.000000  \n",
       "25%        2.000000  3.987841e+04      1.000000       4.000000  \n",
       "50%        2.000000  6.573360e+04      3.000000       6.000000  \n",
       "75%        2.000000  1.399565e+05      5.000000       8.000000  \n",
       "max        7.000000  1.632004e+07      6.000000       9.000000  "
      ]
     },
     "execution_count": 90,
     "metadata": {},
     "output_type": "execute_result"
    }
   ],
   "source": [
    "#checking numerical values\n",
    "\n",
    "df_user_comp.select_dtypes(\"number\").describe()\n"
   ]
  },
  {
   "cell_type": "code",
   "execution_count": 100,
   "id": "bf695113-601e-4650-90d2-efa50bbba883",
   "metadata": {},
   "outputs": [
    {
     "data": {
      "image/png": "[encoded data removed]",
      "text/plain": [
       "<Figure size 640x480 with 1 Axes>"
      ]
     },
     "metadata": {},
     "output_type": "display_data"
    }
   ],
   "source": [
    "#Checking ages\n",
    "sns.histplot(df_user_comp['clnt_age'], kde=True);\n"
   ]
  },
  {
   "cell_type": "code",
   "execution_count": 102,
   "id": "76df870a-bcc0-4e9b-905e-60e0d107030a",
   "metadata": {},
   "outputs": [
    {
     "data": {
      "image/png": "[encoded data removed]",
      "text/plain": [
       "<Figure size 640x480 with 1 Axes>"
      ]
     },
     "metadata": {},
     "output_type": "display_data"
    }
   ],
   "source": [
    "#Checking balance\n",
    "sns.histplot(df_user_comp['bal'],bins= 10, kde=True);"
   ]
  },
  {
   "cell_type": "code",
   "execution_count": 106,
   "id": "063424f3-d0ce-4dee-9f5b-7d07a8e59283",
   "metadata": {},
   "outputs": [
    {
     "data": {
      "image/png": "[encoded data removed]",
      "text/plain": [
       "<Figure size 640x480 with 1 Axes>"
      ]
     },
     "metadata": {},
     "output_type": "display_data"
    }
   ],
   "source": [
    "sns.boxplot(x = df_user_comp['bal']);"
   ]
  },
  {
   "cell_type": "code",
   "execution_count": 104,
   "id": "5c380fe2-285e-44c6-88aa-421fc6e89e43",
   "metadata": {},
   "outputs": [
    {
     "data": {
      "image/png": "[encoded data removed]",
      "text/plain": [
       "<Figure size 640x480 with 1 Axes>"
      ]
     },
     "metadata": {},
     "output_type": "display_data"
    }
   ],
   "source": [
    "#Checking the time the client is a client \n",
    "sns.histplot(df_user_comp['clnt_tenure_yr'],bins= 20, kde=True);\n"
   ]
  },
  {
   "cell_type": "code",
   "execution_count": 107,
   "id": "0a80c4e1-2e8c-4e53-8fce-dcbea2c5db17",
   "metadata": {},
   "outputs": [
    {
     "data": {
      "image/png": "[encoded data removed]",
      "text/plain": [
       "<Figure size 640x480 with 1 Axes>"
      ]
     },
     "metadata": {},
     "output_type": "display_data"
    }
   ],
   "source": [
    "sns.boxplot(x = df_user_comp['clnt_tenure_yr']);"
   ]
  },
  {
   "cell_type": "code",
   "execution_count": null,
   "id": "1631bc68-4f62-4afb-941f-6daf8f0e8268",
   "metadata": {},
   "outputs": [],
   "source": []
  },
  {
   "cell_type": "code",
   "execution_count": null,
   "id": "564c76e7-35b0-4267-be1e-3b48ee94a330",
   "metadata": {},
   "outputs": [],
   "source": []
  },
  {
   "cell_type": "code",
   "execution_count": 10,
   "id": "30d53fcd-71b8-40a7-9083-8591eadbb68b",
   "metadata": {},
   "outputs": [
    {
     "data": {
      "text/html": [
       "<div>\n",
       "<style scoped>\n",
       "    .dataframe tbody tr th:only-of-type {\n",
       "        vertical-align: middle;\n",
       "    }\n",
       "\n",
       "    .dataframe tbody tr th {\n",
       "        vertical-align: top;\n",
       "    }\n",
       "\n",
       "    .dataframe thead th {\n",
       "        text-align: right;\n",
       "    }\n",
       "</style>\n",
       "<table border=\"1\" class=\"dataframe\">\n",
       "  <thead>\n",
       "    <tr style=\"text-align: right;\">\n",
       "      <th></th>\n",
       "      <th>client_id</th>\n",
       "      <th>visitor_id</th>\n",
       "      <th>visit_id</th>\n",
       "      <th>process_step</th>\n",
       "      <th>date_time</th>\n",
       "    </tr>\n",
       "  </thead>\n",
       "  <tbody>\n",
       "    <tr>\n",
       "      <th>0</th>\n",
       "      <td>9988021</td>\n",
       "      <td>580560515_7732621733</td>\n",
       "      <td>781255054_21935453173_531117</td>\n",
       "      <td>step_3</td>\n",
       "      <td>2017-04-17 15:27:07</td>\n",
       "    </tr>\n",
       "    <tr>\n",
       "      <th>1</th>\n",
       "      <td>9988021</td>\n",
       "      <td>580560515_7732621733</td>\n",
       "      <td>781255054_21935453173_531117</td>\n",
       "      <td>step_2</td>\n",
       "      <td>2017-04-17 15:26:51</td>\n",
       "    </tr>\n",
       "    <tr>\n",
       "      <th>2</th>\n",
       "      <td>9988021</td>\n",
       "      <td>580560515_7732621733</td>\n",
       "      <td>781255054_21935453173_531117</td>\n",
       "      <td>step_3</td>\n",
       "      <td>2017-04-17 15:19:22</td>\n",
       "    </tr>\n",
       "    <tr>\n",
       "      <th>3</th>\n",
       "      <td>9988021</td>\n",
       "      <td>580560515_7732621733</td>\n",
       "      <td>781255054_21935453173_531117</td>\n",
       "      <td>step_2</td>\n",
       "      <td>2017-04-17 15:19:13</td>\n",
       "    </tr>\n",
       "    <tr>\n",
       "      <th>4</th>\n",
       "      <td>9988021</td>\n",
       "      <td>580560515_7732621733</td>\n",
       "      <td>781255054_21935453173_531117</td>\n",
       "      <td>step_3</td>\n",
       "      <td>2017-04-17 15:18:04</td>\n",
       "    </tr>\n",
       "    <tr>\n",
       "      <th>5</th>\n",
       "      <td>9988021</td>\n",
       "      <td>580560515_7732621733</td>\n",
       "      <td>781255054_21935453173_531117</td>\n",
       "      <td>step_2</td>\n",
       "      <td>2017-04-17 15:17:15</td>\n",
       "    </tr>\n",
       "    <tr>\n",
       "      <th>6</th>\n",
       "      <td>9988021</td>\n",
       "      <td>580560515_7732621733</td>\n",
       "      <td>781255054_21935453173_531117</td>\n",
       "      <td>step_1</td>\n",
       "      <td>2017-04-17 15:17:01</td>\n",
       "    </tr>\n",
       "    <tr>\n",
       "      <th>7</th>\n",
       "      <td>9988021</td>\n",
       "      <td>580560515_7732621733</td>\n",
       "      <td>781255054_21935453173_531117</td>\n",
       "      <td>start</td>\n",
       "      <td>2017-04-17 15:16:22</td>\n",
       "    </tr>\n",
       "    <tr>\n",
       "      <th>8</th>\n",
       "      <td>8320017</td>\n",
       "      <td>39393514_33118319366</td>\n",
       "      <td>960651974_70596002104_312201</td>\n",
       "      <td>confirm</td>\n",
       "      <td>2017-04-05 13:10:05</td>\n",
       "    </tr>\n",
       "    <tr>\n",
       "      <th>9</th>\n",
       "      <td>8320017</td>\n",
       "      <td>39393514_33118319366</td>\n",
       "      <td>960651974_70596002104_312201</td>\n",
       "      <td>step_3</td>\n",
       "      <td>2017-04-05 13:09:43</td>\n",
       "    </tr>\n",
       "    <tr>\n",
       "      <th>10</th>\n",
       "      <td>8320017</td>\n",
       "      <td>39393514_33118319366</td>\n",
       "      <td>960651974_70596002104_312201</td>\n",
       "      <td>step_2</td>\n",
       "      <td>2017-04-05 13:08:40</td>\n",
       "    </tr>\n",
       "    <tr>\n",
       "      <th>11</th>\n",
       "      <td>8320017</td>\n",
       "      <td>39393514_33118319366</td>\n",
       "      <td>960651974_70596002104_312201</td>\n",
       "      <td>step_1</td>\n",
       "      <td>2017-04-05 13:08:24</td>\n",
       "    </tr>\n",
       "    <tr>\n",
       "      <th>12</th>\n",
       "      <td>8320017</td>\n",
       "      <td>39393514_33118319366</td>\n",
       "      <td>960651974_70596002104_312201</td>\n",
       "      <td>start</td>\n",
       "      <td>2017-04-05 13:08:06</td>\n",
       "    </tr>\n",
       "    <tr>\n",
       "      <th>13</th>\n",
       "      <td>4033851</td>\n",
       "      <td>762728880_76361333336</td>\n",
       "      <td>949661017_22392791362_127391</td>\n",
       "      <td>confirm</td>\n",
       "      <td>2017-04-05 12:29:03</td>\n",
       "    </tr>\n",
       "    <tr>\n",
       "      <th>14</th>\n",
       "      <td>4033851</td>\n",
       "      <td>762728880_76361333336</td>\n",
       "      <td>949661017_22392791362_127391</td>\n",
       "      <td>confirm</td>\n",
       "      <td>2017-04-05 12:29:01</td>\n",
       "    </tr>\n",
       "    <tr>\n",
       "      <th>15</th>\n",
       "      <td>4033851</td>\n",
       "      <td>762728880_76361333336</td>\n",
       "      <td>949661017_22392791362_127391</td>\n",
       "      <td>confirm</td>\n",
       "      <td>2017-04-05 12:28:52</td>\n",
       "    </tr>\n",
       "    <tr>\n",
       "      <th>16</th>\n",
       "      <td>4033851</td>\n",
       "      <td>762728880_76361333336</td>\n",
       "      <td>949661017_22392791362_127391</td>\n",
       "      <td>step_3</td>\n",
       "      <td>2017-04-05 12:26:08</td>\n",
       "    </tr>\n",
       "    <tr>\n",
       "      <th>17</th>\n",
       "      <td>4033851</td>\n",
       "      <td>762728880_76361333336</td>\n",
       "      <td>949661017_22392791362_127391</td>\n",
       "      <td>step_2</td>\n",
       "      <td>2017-04-05 12:24:43</td>\n",
       "    </tr>\n",
       "    <tr>\n",
       "      <th>18</th>\n",
       "      <td>4033851</td>\n",
       "      <td>762728880_76361333336</td>\n",
       "      <td>949661017_22392791362_127391</td>\n",
       "      <td>step_1</td>\n",
       "      <td>2017-04-05 12:24:12</td>\n",
       "    </tr>\n",
       "    <tr>\n",
       "      <th>19</th>\n",
       "      <td>4033851</td>\n",
       "      <td>762728880_76361333336</td>\n",
       "      <td>949661017_22392791362_127391</td>\n",
       "      <td>start</td>\n",
       "      <td>2017-04-05 12:24:04</td>\n",
       "    </tr>\n",
       "  </tbody>\n",
       "</table>\n",
       "</div>"
      ],
      "text/plain": [
       "    client_id             visitor_id                      visit_id  \\\n",
       "0     9988021   580560515_7732621733  781255054_21935453173_531117   \n",
       "1     9988021   580560515_7732621733  781255054_21935453173_531117   \n",
       "2     9988021   580560515_7732621733  781255054_21935453173_531117   \n",
       "3     9988021   580560515_7732621733  781255054_21935453173_531117   \n",
       "4     9988021   580560515_7732621733  781255054_21935453173_531117   \n",
       "5     9988021   580560515_7732621733  781255054_21935453173_531117   \n",
       "6     9988021   580560515_7732621733  781255054_21935453173_531117   \n",
       "7     9988021   580560515_7732621733  781255054_21935453173_531117   \n",
       "8     8320017   39393514_33118319366  960651974_70596002104_312201   \n",
       "9     8320017   39393514_33118319366  960651974_70596002104_312201   \n",
       "10    8320017   39393514_33118319366  960651974_70596002104_312201   \n",
       "11    8320017   39393514_33118319366  960651974_70596002104_312201   \n",
       "12    8320017   39393514_33118319366  960651974_70596002104_312201   \n",
       "13    4033851  762728880_76361333336  949661017_22392791362_127391   \n",
       "14    4033851  762728880_76361333336  949661017_22392791362_127391   \n",
       "15    4033851  762728880_76361333336  949661017_22392791362_127391   \n",
       "16    4033851  762728880_76361333336  949661017_22392791362_127391   \n",
       "17    4033851  762728880_76361333336  949661017_22392791362_127391   \n",
       "18    4033851  762728880_76361333336  949661017_22392791362_127391   \n",
       "19    4033851  762728880_76361333336  949661017_22392791362_127391   \n",
       "\n",
       "   process_step            date_time  \n",
       "0        step_3  2017-04-17 15:27:07  \n",
       "1        step_2  2017-04-17 15:26:51  \n",
       "2        step_3  2017-04-17 15:19:22  \n",
       "3        step_2  2017-04-17 15:19:13  \n",
       "4        step_3  2017-04-17 15:18:04  \n",
       "5        step_2  2017-04-17 15:17:15  \n",
       "6        step_1  2017-04-17 15:17:01  \n",
       "7         start  2017-04-17 15:16:22  \n",
       "8       confirm  2017-04-05 13:10:05  \n",
       "9        step_3  2017-04-05 13:09:43  \n",
       "10       step_2  2017-04-05 13:08:40  \n",
       "11       step_1  2017-04-05 13:08:24  \n",
       "12        start  2017-04-05 13:08:06  \n",
       "13      confirm  2017-04-05 12:29:03  \n",
       "14      confirm  2017-04-05 12:29:01  \n",
       "15      confirm  2017-04-05 12:28:52  \n",
       "16       step_3  2017-04-05 12:26:08  \n",
       "17       step_2  2017-04-05 12:24:43  \n",
       "18       step_1  2017-04-05 12:24:12  \n",
       "19        start  2017-04-05 12:24:04  "
      ]
     },
     "execution_count": 10,
     "metadata": {},
     "output_type": "execute_result"
    }
   ],
   "source": [
    "# Merge df_3 with df_4\n",
    "\n",
    "df_combined = pd.concat([df_3, df_4], ignore_index=True)\n",
    "df_combined.head(20)"
   ]
  },
  {
   "cell_type": "code",
   "execution_count": null,
   "id": "7c6f4586-41db-47bc-88cd-6081150d240a",
   "metadata": {},
   "outputs": [],
   "source": []
  },
  {
   "cell_type": "code",
   "execution_count": null,
   "id": "4f688ba2-5957-457b-aa30-8ba7da0649f9",
   "metadata": {},
   "outputs": [],
   "source": [
    "# play with:\n",
    "# df_user_comp , drop users without variation (variation = NAN) \n",
    "#     graphs for all the colums of df_usercomp.\n",
    "\n",
    "\n",
    "# graph with steps - count steps \n",
    "# graph wth the % steps = confirm\n",
    "# graph with completion time\n",
    "# graph for only start\n",
    "\n",
    "\n",
    "\n",
    "\n",
    "\n",
    "\n"
   ]
  }
 ],
 "metadata": {
  "kernelspec": {
   "display_name": "Python 3 (ipykernel)",
   "language": "python",
   "name": "python3"
  },
  "language_info": {
   "codemirror_mode": {
    "name": "ipython",
    "version": 3
   },
   "file_extension": ".py",
   "mimetype": "text/x-python",
   "name": "python",
   "nbconvert_exporter": "python",
   "pygments_lexer": "ipython3",
   "version": "3.12.4"
  }
 },
 "nbformat": 4,
 "nbformat_minor": 5
}
