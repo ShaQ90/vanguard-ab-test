{
 "cells": [
  {
   "cell_type": "code",
   "execution_count": 2,
   "id": "9a0b50e9-0c18-4d10-8487-1a25e34df1cf",
   "metadata": {},
   "outputs": [],
   "source": [
    "#Imports\n",
    "import pandas as pd\n",
    "import functions as func\n",
    "import yaml\n",
    "import numpy as np\n",
    "import matplotlib.pyplot as plt\n",
    "import seaborn as sns\n",
    "from statsmodels.stats.proportion import proportions_ztest\n",
    "import scipy.stats as stats\n",
    "\n",
    "%matplotlib inline\n",
    "\n",
    "db_locations = func.import_yaml()\n",
    "\n",
    "#load df\n",
    "df = pd.read_csv(db_locations['data_clean']['user_logs_var'])"
   ]
  },
  {
   "cell_type": "code",
   "execution_count": 2,
   "id": "74714e45-b014-463f-8776-7a7d28f914ff",
   "metadata": {},
   "outputs": [
    {
     "data": {
      "text/html": [
       "<div>\n",
       "<style scoped>\n",
       "    .dataframe tbody tr th:only-of-type {\n",
       "        vertical-align: middle;\n",
       "    }\n",
       "\n",
       "    .dataframe tbody tr th {\n",
       "        vertical-align: top;\n",
       "    }\n",
       "\n",
       "    .dataframe thead th {\n",
       "        text-align: right;\n",
       "    }\n",
       "</style>\n",
       "<table border=\"1\" class=\"dataframe\">\n",
       "  <thead>\n",
       "    <tr style=\"text-align: right;\">\n",
       "      <th></th>\n",
       "      <th>client_id</th>\n",
       "      <th>visitor_id</th>\n",
       "      <th>visit_id</th>\n",
       "      <th>process_step</th>\n",
       "      <th>date_time</th>\n",
       "      <th>prev_time</th>\n",
       "      <th>time_diff</th>\n",
       "      <th>time_diff_seconds</th>\n",
       "      <th>error</th>\n",
       "      <th>Variation</th>\n",
       "    </tr>\n",
       "  </thead>\n",
       "  <tbody>\n",
       "    <tr>\n",
       "      <th>0</th>\n",
       "      <td>6265388</td>\n",
       "      <td>100019786_4272121951</td>\n",
       "      <td>703380671_89376183829_330646</td>\n",
       "      <td>start</td>\n",
       "      <td>2017-04-15 15:13:33</td>\n",
       "      <td>NaN</td>\n",
       "      <td>NaN</td>\n",
       "      <td>NaN</td>\n",
       "      <td>0</td>\n",
       "      <td>Test</td>\n",
       "    </tr>\n",
       "    <tr>\n",
       "      <th>1</th>\n",
       "      <td>6265388</td>\n",
       "      <td>100019786_4272121951</td>\n",
       "      <td>703380671_89376183829_330646</td>\n",
       "      <td>step_1</td>\n",
       "      <td>2017-04-15 15:13:46</td>\n",
       "      <td>2017-04-15 15:13:33</td>\n",
       "      <td>0 days 00:00:13</td>\n",
       "      <td>13.0</td>\n",
       "      <td>0</td>\n",
       "      <td>Test</td>\n",
       "    </tr>\n",
       "    <tr>\n",
       "      <th>2</th>\n",
       "      <td>6265388</td>\n",
       "      <td>100019786_4272121951</td>\n",
       "      <td>703380671_89376183829_330646</td>\n",
       "      <td>step_2</td>\n",
       "      <td>2017-04-15 15:14:21</td>\n",
       "      <td>2017-04-15 15:13:46</td>\n",
       "      <td>0 days 00:00:35</td>\n",
       "      <td>35.0</td>\n",
       "      <td>0</td>\n",
       "      <td>Test</td>\n",
       "    </tr>\n",
       "    <tr>\n",
       "      <th>3</th>\n",
       "      <td>6265388</td>\n",
       "      <td>100019786_4272121951</td>\n",
       "      <td>703380671_89376183829_330646</td>\n",
       "      <td>step_3</td>\n",
       "      <td>2017-04-15 15:15:50</td>\n",
       "      <td>2017-04-15 15:14:21</td>\n",
       "      <td>0 days 00:01:29</td>\n",
       "      <td>89.0</td>\n",
       "      <td>0</td>\n",
       "      <td>Test</td>\n",
       "    </tr>\n",
       "    <tr>\n",
       "      <th>4</th>\n",
       "      <td>6265388</td>\n",
       "      <td>100019786_4272121951</td>\n",
       "      <td>703380671_89376183829_330646</td>\n",
       "      <td>confirm</td>\n",
       "      <td>2017-04-15 15:16:18</td>\n",
       "      <td>2017-04-15 15:15:50</td>\n",
       "      <td>0 days 00:00:28</td>\n",
       "      <td>28.0</td>\n",
       "      <td>0</td>\n",
       "      <td>Test</td>\n",
       "    </tr>\n",
       "  </tbody>\n",
       "</table>\n",
       "</div>"
      ],
      "text/plain": [
       "   client_id            visitor_id                      visit_id process_step  \\\n",
       "0    6265388  100019786_4272121951  703380671_89376183829_330646        start   \n",
       "1    6265388  100019786_4272121951  703380671_89376183829_330646       step_1   \n",
       "2    6265388  100019786_4272121951  703380671_89376183829_330646       step_2   \n",
       "3    6265388  100019786_4272121951  703380671_89376183829_330646       step_3   \n",
       "4    6265388  100019786_4272121951  703380671_89376183829_330646      confirm   \n",
       "\n",
       "             date_time            prev_time        time_diff  \\\n",
       "0  2017-04-15 15:13:33                  NaN              NaN   \n",
       "1  2017-04-15 15:13:46  2017-04-15 15:13:33  0 days 00:00:13   \n",
       "2  2017-04-15 15:14:21  2017-04-15 15:13:46  0 days 00:00:35   \n",
       "3  2017-04-15 15:15:50  2017-04-15 15:14:21  0 days 00:01:29   \n",
       "4  2017-04-15 15:16:18  2017-04-15 15:15:50  0 days 00:00:28   \n",
       "\n",
       "   time_diff_seconds  error Variation  \n",
       "0                NaN      0      Test  \n",
       "1               13.0      0      Test  \n",
       "2               35.0      0      Test  \n",
       "3               89.0      0      Test  \n",
       "4               28.0      0      Test  "
      ]
     },
     "execution_count": 2,
     "metadata": {},
     "output_type": "execute_result"
    }
   ],
   "source": [
    "df.head()"
   ]
  },
  {
   "cell_type": "code",
   "execution_count": 3,
   "id": "dd82c190-4b08-4cbe-a1b2-d1d12bd80c5c",
   "metadata": {},
   "outputs": [
    {
     "name": "stdout",
     "output_type": "stream",
     "text": [
      "Grouping by client_id\n",
      "Successes (Control, Test): [15429, 18681]\n",
      "Totals (Control, Test): [23527, 26960]\n",
      "z-Statistic: -8.886541033708866, p-Value: 6.304077732636919e-19\n"
     ]
    },
    {
     "data": {
      "text/plain": [
       "True"
      ]
     },
     "execution_count": 3,
     "metadata": {},
     "output_type": "execute_result"
    }
   ],
   "source": [
    "#Hypothesis Testing for Completion Rate\n",
    "#Null Hypothesis:  There is no significant difference in completion rates\n",
    "#Alternative Hypothesis:  The redesign has led to a significant change\n",
    "#Treshold = 0.05\n",
    "#by client\n",
    "\n",
    "z_stat, p_value = func.completion_rate_hypothesis_test(df,\"client_id\")\n",
    "print(f\"z-Statistic: {z_stat}, p-Value: {p_value}\")\n",
    "\n",
    "p_value < 0.05"
   ]
  },
  {
   "cell_type": "code",
   "execution_count": 4,
   "id": "93a713e8-cff0-4395-a319-52bb2f631b9b",
   "metadata": {},
   "outputs": [
    {
     "name": "stdout",
     "output_type": "stream",
     "text": [
      "Grouping by visit_id\n",
      "Successes (Control, Test): [16040, 21714]\n",
      "Totals (Control, Test): [32183, 37109]\n",
      "z-Statistic: -22.867662620559358, p-Value: 9.751835523847512e-116\n"
     ]
    },
    {
     "data": {
      "text/plain": [
       "True"
      ]
     },
     "execution_count": 4,
     "metadata": {},
     "output_type": "execute_result"
    }
   ],
   "source": [
    "#By visit_id\n",
    "\n",
    "z_stat, p_value = func.completion_rate_hypothesis_test(df,\"visit_id\")\n",
    "print(f\"z-Statistic: {z_stat}, p-Value: {p_value}\")\n",
    "\n",
    "p_value < 0.05"
   ]
  },
  {
   "cell_type": "code",
   "execution_count": 20,
   "id": "088aa27e-f676-4c0e-bd6b-35e75e501b08",
   "metadata": {},
   "outputs": [
    {
     "name": "stdout",
     "output_type": "stream",
     "text": [
      "Control Completion Rate: 0.538\n",
      "Test Completion Rate: 0.689\n",
      "Threshold (Control Rate + 5%): 0.588\n",
      "Z-statistic: 27.264\n",
      "P-value: 0.000\n",
      "Reject the null hypothesis: Test group's completion rate is significantly greater than the threshold.\n"
     ]
    }
   ],
   "source": [
    "#Hypothesis Testing for Completion Rate with a 5% increase\n",
    "#Null Hypothesis:  There is no significant difference in completion rates\n",
    "#Alternative Hypothesis:  The redesign has led to a significant change\n",
    "#Treshold = 0.05\n",
    "#by visit_id\n",
    "\n",
    "\n",
    "\n",
    "# Calculate completion counts (completing when reaching the 'confirm' step)\n",
    "completion_counts = df[df['process_step'] == 'confirm'].groupby('Variation').size()\n",
    "\n",
    "# Total number of participants in each group\n",
    "total_counts = df.groupby('Variation')['visit_id'].nunique()\n",
    "\n",
    "# Completion rate for each group\n",
    "completion_rates = completion_counts / total_counts\n",
    "\n",
    "# Define the cost-effectiveness threshold (+5% to Control group completion rate)\n",
    "control_rate = completion_rates['Control']\n",
    "threshold = control_rate + 0.05\n",
    "\n",
    "# Completion rate for Test group\n",
    "test_rate = completion_rates['Test']\n",
    "\n",
    "# Perform two-proportion z-test\n",
    "# n_control: Total participants in Control group, n_test: Total participants in Test group\n",
    "n_control = total_counts['Control']\n",
    "n_test = total_counts['Test']\n",
    "\n",
    "# x_control: Completions in Control group, x_test: Completions in Test group\n",
    "x_control = completion_counts['Control']\n",
    "x_test = completion_counts['Test']\n",
    "\n",
    "# Pooled proportion\n",
    "p_pooled = (x_control + x_test) / (n_control + n_test)\n",
    "\n",
    "# Standard error\n",
    "se = np.sqrt(p_pooled * (1 - p_pooled) * (1/n_control + 1/n_test))\n",
    "\n",
    "# Z-statistic (for one-sided test)\n",
    "z_stat = (test_rate - threshold) / se\n",
    "\n",
    "# P-value for one-sided test\n",
    "p_value = 1 - stats.norm.cdf(z_stat)\n",
    "\n",
    "# Significance level\n",
    "alpha = 0.05\n",
    "\n",
    "# Output\n",
    "print(f\"Control Completion Rate: {control_rate:.3f}\")\n",
    "print(f\"Test Completion Rate: {test_rate:.3f}\")\n",
    "print(f\"Threshold (Control Rate + 5%): {threshold:.3f}\")\n",
    "print(f\"Z-statistic: {z_stat:.3f}\")\n",
    "print(f\"P-value: {p_value:.3f}\")\n",
    "\n",
    "# Hypothesis testing decision\n",
    "if p_value < alpha:\n",
    "    print(\"Reject the null hypothesis: Test group's completion rate is significantly greater than the threshold.\")\n",
    "else:\n",
    "    print(\"Fail to reject the null hypothesis: Test group's completion rate is not significantly greater than the threshold.\")"
   ]
  },
  {
   "cell_type": "code",
   "execution_count": null,
   "id": "e3b78da0-3e5a-4e71-959b-2f34c8665c6b",
   "metadata": {},
   "outputs": [],
   "source": []
  },
  {
   "cell_type": "code",
   "execution_count": null,
   "id": "6cb74c36-828b-4ed4-9189-0ba1bf7e3766",
   "metadata": {},
   "outputs": [],
   "source": []
  },
  {
   "cell_type": "code",
   "execution_count": 5,
   "id": "66e2e649-f7f6-41eb-8dee-b63a419cc2b1",
   "metadata": {},
   "outputs": [],
   "source": [
    "#Hypothesis Testing for Error Rate\n",
    "#Null Hypothesis:  There is no significant difference in error rates\n",
    "#Alternative Hypothesis:  The redesign has led to a significant change\n",
    "#by client id"
   ]
  },
  {
   "cell_type": "code",
   "execution_count": 5,
   "id": "0032de30-d47c-459a-b814-d1a55465eded",
   "metadata": {},
   "outputs": [
    {
     "name": "stdout",
     "output_type": "stream",
     "text": [
      "Grouping by client_id\n",
      "Errors (Control, Test): [2703, 3222]\n",
      "Totals (Control, Test): [23527, 26960]\n",
      "z-Statistic: -1.6093583502630044, p-Value: 0.10753800691954607\n"
     ]
    },
    {
     "data": {
      "text/plain": [
       "False"
      ]
     },
     "execution_count": 5,
     "metadata": {},
     "output_type": "execute_result"
    }
   ],
   "source": [
    "z_stat, p_value = func.error_rate_hypothesis_test(df, \"client_id\")\n",
    "print(f\"z-Statistic: {z_stat}, p-Value: {p_value}\")\n",
    "\n",
    "p_value < 0.05"
   ]
  },
  {
   "cell_type": "code",
   "execution_count": 6,
   "id": "d2380e76-5427-41e5-a560-3ff34740b4c9",
   "metadata": {},
   "outputs": [
    {
     "name": "stdout",
     "output_type": "stream",
     "text": [
      "Grouping by visit_id\n",
      "Errors (Control, Test): [2774, 3441]\n",
      "Totals (Control, Test): [32183, 37109]\n",
      "z-Statistic: -3.00124616129456, p-Value: 0.002688771091388191\n"
     ]
    },
    {
     "data": {
      "text/plain": [
       "True"
      ]
     },
     "execution_count": 6,
     "metadata": {},
     "output_type": "execute_result"
    }
   ],
   "source": [
    "#By visit_id\n",
    "z_stat, p_value = func.error_rate_hypothesis_test(df,\"visit_id\")\n",
    "print(f\"z-Statistic: {z_stat}, p-Value: {p_value}\")\n",
    "\n",
    "p_value < 0.05"
   ]
  },
  {
   "cell_type": "code",
   "execution_count": 8,
   "id": "bd0a5d51-809d-4540-b022-0ed65b71d90c",
   "metadata": {},
   "outputs": [],
   "source": [
    "#Hypothesis Testing for completion time  Rate\n",
    "#Null Hypothesis:  There is no significant difference in completion rates\n",
    "#Alternative Hypothesis:  The redesign has led to a significant change\n",
    "\n"
   ]
  },
  {
   "cell_type": "code",
   "execution_count": 3,
   "id": "548721b4-9bae-4df4-bb1f-4b5ea8c88eaa",
   "metadata": {},
   "outputs": [
    {
     "name": "stdout",
     "output_type": "stream",
     "text": [
      "z-Statistic: 0.6836840469172146, p-Value: 0.494175199747517\n"
     ]
    },
    {
     "data": {
      "text/plain": [
       "False"
      ]
     },
     "execution_count": 3,
     "metadata": {},
     "output_type": "execute_result"
    }
   ],
   "source": [
    "z_stat, p_value = func.time_complete_hypothesis_test(df,\"client_id\")\n",
    "print(f\"z-Statistic: {z_stat}, p-Value: {p_value}\")\n",
    "p_value < 0.05"
   ]
  },
  {
   "cell_type": "code",
   "execution_count": 4,
   "id": "2b50e72d-5861-4b93-8f6c-0984cb2e1633",
   "metadata": {},
   "outputs": [
    {
     "ename": "TypeError",
     "evalue": "unsupported operand type(s) for /: 'str' and 'int'",
     "output_type": "error",
     "traceback": [
      "\u001b[0;31m---------------------------------------------------------------------------\u001b[0m",
      "\u001b[0;31mTypeError\u001b[0m                                 Traceback (most recent call last)",
      "Cell \u001b[0;32mIn[4], line 1\u001b[0m\n\u001b[0;32m----> 1\u001b[0m z_stat, p_value \u001b[38;5;241m=\u001b[39m func\u001b[38;5;241m.\u001b[39mtime_complete_hypothesis_test(df,\u001b[38;5;124m\"\u001b[39m\u001b[38;5;124mvisit_id\u001b[39m\u001b[38;5;124m\"\u001b[39m)\n\u001b[1;32m      2\u001b[0m \u001b[38;5;28mprint\u001b[39m(\u001b[38;5;124mf\u001b[39m\u001b[38;5;124m\"\u001b[39m\u001b[38;5;124mz-Statistic: \u001b[39m\u001b[38;5;132;01m{\u001b[39;00mz_stat\u001b[38;5;132;01m}\u001b[39;00m\u001b[38;5;124m, p-Value: \u001b[39m\u001b[38;5;132;01m{\u001b[39;00mp_value\u001b[38;5;132;01m}\u001b[39;00m\u001b[38;5;124m\"\u001b[39m)\n",
      "File \u001b[0;32m~/Documents/GitHub/Projects/vanguard-ab-test/notebooks/functions.py:136\u001b[0m, in \u001b[0;36mtime_complete_hypothesis_test\u001b[0;34m(df, group)\u001b[0m\n\u001b[1;32m    132\u001b[0m time_test \u001b[38;5;241m=\u001b[39m df[(df[\u001b[38;5;124m'\u001b[39m\u001b[38;5;124mtime_diff_seconds\u001b[39m\u001b[38;5;124m'\u001b[39m] \u001b[38;5;241m!=\u001b[39m \u001b[38;5;241m0\u001b[39m) \u001b[38;5;241m&\u001b[39m (df[\u001b[38;5;124m'\u001b[39m\u001b[38;5;124mVariation\u001b[39m\u001b[38;5;124m'\u001b[39m] \u001b[38;5;241m==\u001b[39m \u001b[38;5;124m'\u001b[39m\u001b[38;5;124mTest\u001b[39m\u001b[38;5;124m'\u001b[39m)][group]\n\u001b[1;32m    135\u001b[0m \u001b[38;5;66;03m# Perform ttest_ind for two proportions\u001b[39;00m\n\u001b[0;32m--> 136\u001b[0m t_stat, p_value \u001b[38;5;241m=\u001b[39m ttest_ind(time_control, time_test)\n\u001b[1;32m    138\u001b[0m \u001b[38;5;28;01mreturn\u001b[39;00m t_stat, p_value\n",
      "File \u001b[0;32m~/anaconda3/envs/conda_base/lib/python3.12/site-packages/scipy/stats/_axis_nan_policy.py:531\u001b[0m, in \u001b[0;36m_axis_nan_policy_factory.<locals>.axis_nan_policy_decorator.<locals>.axis_nan_policy_wrapper\u001b[0;34m(***failed resolving arguments***)\u001b[0m\n\u001b[1;32m    529\u001b[0m \u001b[38;5;28;01mif\u001b[39;00m sentinel:\n\u001b[1;32m    530\u001b[0m     samples \u001b[38;5;241m=\u001b[39m _remove_sentinel(samples, paired, sentinel)\n\u001b[0;32m--> 531\u001b[0m res \u001b[38;5;241m=\u001b[39m hypotest_fun_out(\u001b[38;5;241m*\u001b[39msamples, \u001b[38;5;241m*\u001b[39m\u001b[38;5;241m*\u001b[39mkwds)\n\u001b[1;32m    532\u001b[0m res \u001b[38;5;241m=\u001b[39m result_to_tuple(res)\n\u001b[1;32m    533\u001b[0m res \u001b[38;5;241m=\u001b[39m _add_reduced_axes(res, reduced_axes, keepdims)\n",
      "File \u001b[0;32m~/anaconda3/envs/conda_base/lib/python3.12/site-packages/scipy/stats/_stats_py.py:7377\u001b[0m, in \u001b[0;36mttest_ind\u001b[0;34m(a, b, axis, equal_var, nan_policy, permutations, random_state, alternative, trim)\u001b[0m\n\u001b[1;32m   7375\u001b[0m     old_errstate \u001b[38;5;241m=\u001b[39m np\u001b[38;5;241m.\u001b[39mgeterr()\n\u001b[1;32m   7376\u001b[0m     np\u001b[38;5;241m.\u001b[39mseterr(divide\u001b[38;5;241m=\u001b[39m\u001b[38;5;124m'\u001b[39m\u001b[38;5;124mignore\u001b[39m\u001b[38;5;124m'\u001b[39m, invalid\u001b[38;5;241m=\u001b[39m\u001b[38;5;124m'\u001b[39m\u001b[38;5;124mignore\u001b[39m\u001b[38;5;124m'\u001b[39m)\n\u001b[0;32m-> 7377\u001b[0m v1 \u001b[38;5;241m=\u001b[39m _var(a, axis, ddof\u001b[38;5;241m=\u001b[39m\u001b[38;5;241m1\u001b[39m)\n\u001b[1;32m   7378\u001b[0m v2 \u001b[38;5;241m=\u001b[39m _var(b, axis, ddof\u001b[38;5;241m=\u001b[39m\u001b[38;5;241m1\u001b[39m)\n\u001b[1;32m   7379\u001b[0m \u001b[38;5;28;01mif\u001b[39;00m equal_var:\n",
      "File \u001b[0;32m~/anaconda3/envs/conda_base/lib/python3.12/site-packages/scipy/stats/_stats_py.py:1084\u001b[0m, in \u001b[0;36m_var\u001b[0;34m(x, axis, ddof, mean)\u001b[0m\n\u001b[1;32m   1082\u001b[0m \u001b[38;5;28;01mdef\u001b[39;00m \u001b[38;5;21m_var\u001b[39m(x, axis\u001b[38;5;241m=\u001b[39m\u001b[38;5;241m0\u001b[39m, ddof\u001b[38;5;241m=\u001b[39m\u001b[38;5;241m0\u001b[39m, mean\u001b[38;5;241m=\u001b[39m\u001b[38;5;28;01mNone\u001b[39;00m):\n\u001b[1;32m   1083\u001b[0m     \u001b[38;5;66;03m# Calculate variance of sample, warning if precision is lost\u001b[39;00m\n\u001b[0;32m-> 1084\u001b[0m     var \u001b[38;5;241m=\u001b[39m _moment(x, \u001b[38;5;241m2\u001b[39m, axis, mean\u001b[38;5;241m=\u001b[39mmean)\n\u001b[1;32m   1085\u001b[0m     \u001b[38;5;28;01mif\u001b[39;00m ddof \u001b[38;5;241m!=\u001b[39m \u001b[38;5;241m0\u001b[39m:\n\u001b[1;32m   1086\u001b[0m         n \u001b[38;5;241m=\u001b[39m x\u001b[38;5;241m.\u001b[39mshape[axis] \u001b[38;5;28;01mif\u001b[39;00m axis \u001b[38;5;129;01mis\u001b[39;00m \u001b[38;5;129;01mnot\u001b[39;00m \u001b[38;5;28;01mNone\u001b[39;00m \u001b[38;5;28;01melse\u001b[39;00m x\u001b[38;5;241m.\u001b[39msize\n",
      "File \u001b[0;32m~/anaconda3/envs/conda_base/lib/python3.12/site-packages/scipy/stats/_stats_py.py:1052\u001b[0m, in \u001b[0;36m_moment\u001b[0;34m(a, moment, axis, mean)\u001b[0m\n\u001b[1;32m   1049\u001b[0m     n_list\u001b[38;5;241m.\u001b[39mappend(current_n)\n\u001b[1;32m   1051\u001b[0m \u001b[38;5;66;03m# Starting point for exponentiation by squares\u001b[39;00m\n\u001b[0;32m-> 1052\u001b[0m mean \u001b[38;5;241m=\u001b[39m (a\u001b[38;5;241m.\u001b[39mmean(axis, keepdims\u001b[38;5;241m=\u001b[39m\u001b[38;5;28;01mTrue\u001b[39;00m) \u001b[38;5;28;01mif\u001b[39;00m mean \u001b[38;5;129;01mis\u001b[39;00m \u001b[38;5;28;01mNone\u001b[39;00m\n\u001b[1;32m   1053\u001b[0m         \u001b[38;5;28;01melse\u001b[39;00m np\u001b[38;5;241m.\u001b[39masarray(mean, dtype\u001b[38;5;241m=\u001b[39mdtype)[()])\n\u001b[1;32m   1054\u001b[0m a_zero_mean \u001b[38;5;241m=\u001b[39m a \u001b[38;5;241m-\u001b[39m mean\n\u001b[1;32m   1056\u001b[0m eps \u001b[38;5;241m=\u001b[39m np\u001b[38;5;241m.\u001b[39mfinfo(a_zero_mean\u001b[38;5;241m.\u001b[39mdtype)\u001b[38;5;241m.\u001b[39mresolution \u001b[38;5;241m*\u001b[39m \u001b[38;5;241m10\u001b[39m\n",
      "File \u001b[0;32m~/anaconda3/envs/conda_base/lib/python3.12/site-packages/numpy/core/_methods.py:121\u001b[0m, in \u001b[0;36m_mean\u001b[0;34m(a, axis, dtype, out, keepdims, where)\u001b[0m\n\u001b[1;32m    119\u001b[0m \u001b[38;5;28;01mif\u001b[39;00m \u001b[38;5;28misinstance\u001b[39m(ret, mu\u001b[38;5;241m.\u001b[39mndarray):\n\u001b[1;32m    120\u001b[0m     \u001b[38;5;28;01mwith\u001b[39;00m _no_nep50_warning():\n\u001b[0;32m--> 121\u001b[0m         ret \u001b[38;5;241m=\u001b[39m um\u001b[38;5;241m.\u001b[39mtrue_divide(\n\u001b[1;32m    122\u001b[0m                 ret, rcount, out\u001b[38;5;241m=\u001b[39mret, casting\u001b[38;5;241m=\u001b[39m\u001b[38;5;124m'\u001b[39m\u001b[38;5;124munsafe\u001b[39m\u001b[38;5;124m'\u001b[39m, subok\u001b[38;5;241m=\u001b[39m\u001b[38;5;28;01mFalse\u001b[39;00m)\n\u001b[1;32m    123\u001b[0m     \u001b[38;5;28;01mif\u001b[39;00m is_float16_result \u001b[38;5;129;01mand\u001b[39;00m out \u001b[38;5;129;01mis\u001b[39;00m \u001b[38;5;28;01mNone\u001b[39;00m:\n\u001b[1;32m    124\u001b[0m         ret \u001b[38;5;241m=\u001b[39m arr\u001b[38;5;241m.\u001b[39mdtype\u001b[38;5;241m.\u001b[39mtype(ret)\n",
      "\u001b[0;31mTypeError\u001b[0m: unsupported operand type(s) for /: 'str' and 'int'"
     ]
    }
   ],
   "source": [
    "#z_stat, p_value = func.time_complete_hypothesis_test(df,\"visit_id\")\n",
    "print(f\"z-Statistic: {z_stat}, p-Value: {p_value}\")\n"
   ]
  },
  {
   "cell_type": "code",
   "execution_count": 10,
   "id": "63116583-aa03-4713-a054-1378978b1225",
   "metadata": {},
   "outputs": [
    {
     "data": {
      "text/plain": [
       "False"
      ]
     },
     "execution_count": 10,
     "metadata": {},
     "output_type": "execute_result"
    }
   ],
   "source": []
  },
  {
   "cell_type": "code",
   "execution_count": null,
   "id": "93aeab55-53e0-40b2-96e5-8e20698e819c",
   "metadata": {},
   "outputs": [],
   "source": []
  }
 ],
 "metadata": {
  "kernelspec": {
   "display_name": "Python 3 (ipykernel)",
   "language": "python",
   "name": "python3"
  },
  "language_info": {
   "codemirror_mode": {
    "name": "ipython",
    "version": 3
   },
   "file_extension": ".py",
   "mimetype": "text/x-python",
   "name": "python",
   "nbconvert_exporter": "python",
   "pygments_lexer": "ipython3",
   "version": "3.12.4"
  }
 },
 "nbformat": 4,
 "nbformat_minor": 5
}
